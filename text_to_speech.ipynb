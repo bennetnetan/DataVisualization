{
 "cells": [
  {
   "cell_type": "code",
   "execution_count": 6,
   "metadata": {},
   "outputs": [],
   "source": [
    "import pyttsx3\n",
    "\n",
    "# Initialize the Speech Engine\n",
    "engine = pyttsx3.init()\n",
    "\n",
    "# Set properties before adding things to say\n",
    "\n",
    "# Speech Rate\n",
    "engine.setProperty('rate', 150)  # Speed percent (can go over 100)\n",
    "\n",
    "# Volume\n",
    "engine.setProperty('volume', 0.8)  # Volume 0-1\n",
    "\n",
    "# Voice\n",
    "voices = engine.getProperty('voices')\n",
    "# engine.setProperty('voice', voices[1].id)  # Depending on your system, the voice could be a male or female one - Female voice\n",
    "engine.setProperty('voice', voices[0].id)  # Index of voice from getVoices() - Male voice\n",
    "\n",
    "# Text you want to convert to speech\n",
    "text = \"Hello, this is a text to speech conversion.\"\n",
    "\n",
    "# Use the engine to say the text\n",
    "engine.say(text)\n",
    "\n",
    "# Block while the engine is speaking and then clean up the engine\n",
    "engine.runAndWait()\n"
   ]
  },
  {
   "cell_type": "code",
   "execution_count": null,
   "metadata": {},
   "outputs": [],
   "source": []
  }
 ],
 "metadata": {
  "kernelspec": {
   "display_name": "Python 3",
   "language": "python",
   "name": "python3"
  },
  "language_info": {
   "codemirror_mode": {
    "name": "ipython",
    "version": 3
   },
   "file_extension": ".py",
   "mimetype": "text/x-python",
   "name": "python",
   "nbconvert_exporter": "python",
   "pygments_lexer": "ipython3",
   "version": "3.11.0"
  }
 },
 "nbformat": 4,
 "nbformat_minor": 2
}
